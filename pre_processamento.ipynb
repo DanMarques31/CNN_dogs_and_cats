{
 "cells": [
  {
   "cell_type": "markdown",
   "metadata": {},
   "source": [
    "Pré-processamento"
   ]
  },
  {
   "cell_type": "markdown",
   "metadata": {},
   "source": [
    "Carregar imagens do diretório"
   ]
  },
  {
   "cell_type": "code",
   "execution_count": 12,
   "metadata": {},
   "outputs": [],
   "source": [
    "import os\n",
    "\n",
    "current_dir = os.path.abspath(os.getcwd())"
   ]
  },
  {
   "cell_type": "code",
   "execution_count": 13,
   "metadata": {},
   "outputs": [],
   "source": [
    "import glob\n",
    "\n",
    "original_path = current_dir + \"\\\\train\\\\\"\n",
    "dog_img_files = glob.glob(original_path + 'dog.*')"
   ]
  },
  {
   "cell_type": "markdown",
   "metadata": {},
   "source": [
    "Converter base de dados para treino, validação e teste"
   ]
  },
  {
   "cell_type": "code",
   "execution_count": 14,
   "metadata": {},
   "outputs": [],
   "source": [
    "#cria nova pasta para cachorros e gatos atendendo a estrutura do Keras/Tensorflow\n",
    "folder = \"\\\\cats_and_dogs_dataset\"\n",
    "train_folder = current_dir + folder + \"\\\\train\"\n",
    "val_folder = current_dir + folder + \"\\\\validation\"\n",
    "test_folder = current_dir + folder + \"\\\\test\""
   ]
  },
  {
   "cell_type": "code",
   "execution_count": 15,
   "metadata": {},
   "outputs": [],
   "source": [
    "import os\n",
    "\n",
    "os.mkdir(current_dir + folder) #cria nova pasta do dataset\n",
    "os.mkdir(train_folder) #cria nova pasta de treino\n",
    "os.mkdir(val_folder) #cria nova pasta de validação\n",
    "os.mkdir(test_folder) #cria nova pasta de teste\n",
    "\n",
    "new_folder_train_dogs = train_folder + \"\\\\dogs\"\n",
    "new_folder_train_cats = train_folder + \"\\\\cats\"\n",
    "new_folder_val_dogs = val_folder + \"\\\\dogs\"\n",
    "new_folder_val_cats = val_folder + \"\\\\cats\"\n",
    "new_folder_test_dogs = test_folder + \"\\\\dogs\"\n",
    "new_folder_test_cats = test_folder + \"\\\\cats\"\n",
    "\n",
    "os.mkdir(new_folder_train_dogs)\n",
    "os.mkdir(new_folder_train_cats)\n",
    "os.mkdir(new_folder_val_dogs)\n",
    "os.mkdir(new_folder_val_cats)\n",
    "os.mkdir(new_folder_test_dogs)\n",
    "os.mkdir(new_folder_test_cats)"
   ]
  },
  {
   "cell_type": "code",
   "execution_count": 16,
   "metadata": {},
   "outputs": [],
   "source": [
    "import shutil\n",
    "import random\n",
    "\n",
    "percent_val = 0.10\n",
    "percent_test = 0.20\n",
    "\n",
    "def moveImagesToCorrectFolder():\n",
    "    #lista dos arquivos onde encontram-se atualmente\n",
    "    dog_train_files = glob.glob(original_path + 'dog.*')\n",
    "    cat_train_files = glob.glob(original_path + 'cat.*')\n",
    "\n",
    "    #para cada imagem de cachorro, mover para a pasta correta\n",
    "    for f in dog_train_files:\n",
    "        rand_val = random.random()\n",
    "        filename = f.split(\"\\\\\")[-1] #de um endereço como C:\\\\modelo\\\\img1.jpg, pega só o img1.jpg\n",
    "        if rand_val <= percent_val: #10% das imagens vão para val\n",
    "            shutil.move(f, new_folder_val_dogs + \"\\\\\" + filename) #move de origem para val de cachorro\n",
    "        elif rand_val > percent_val and rand_val <= percent_val + percent_test:\n",
    "            shutil.move(f, new_folder_test_dogs + \"\\\\\" + filename) #move de origem para teste de cachorro\n",
    "        else:\n",
    "            shutil.move(f, new_folder_train_dogs + \"\\\\\" + filename) #move de origem para treino de cachorro\n",
    "\n",
    "    #para cada imagem de gato, mover para a pasta correta\n",
    "    for f in cat_train_files:\n",
    "        rand_val = random.random()\n",
    "        filename = f.split(\"\\\\\")[-1] #de um endereço como C:\\\\modelo\\\\img1.jpg, pega só o img1.jpg\n",
    "        if rand_val <= percent_val: #10% das imagens vão para val\n",
    "            shutil.move(f, new_folder_val_cats + \"\\\\\" + filename) #move de origem para val de gato\n",
    "        elif rand_val > percent_val and rand_val <= percent_val + percent_test:\n",
    "            shutil.move(f, new_folder_test_cats + \"\\\\\" + filename) #move de origem para teste de gato\n",
    "        else:\n",
    "            shutil.move(f, new_folder_train_cats + \"\\\\\" + filename) #move de origem para treino de gato\n",
    "        \n",
    "moveImagesToCorrectFolder()\n",
    "os.rmdir(original_path)"
   ]
  }
 ],
 "metadata": {
  "kernelspec": {
   "display_name": "Python 3",
   "language": "python",
   "name": "python3"
  },
  "language_info": {
   "codemirror_mode": {
    "name": "ipython",
    "version": 3
   },
   "file_extension": ".py",
   "mimetype": "text/x-python",
   "name": "python",
   "nbconvert_exporter": "python",
   "pygments_lexer": "ipython3",
   "version": "3.11.4"
  }
 },
 "nbformat": 4,
 "nbformat_minor": 2
}
